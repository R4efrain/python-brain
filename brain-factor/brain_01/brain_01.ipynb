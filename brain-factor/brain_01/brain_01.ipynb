{
 "cells": [
  {
   "cell_type": "code",
   "execution_count": 8,
   "metadata": {},
   "outputs": [],
   "source": [
    "simulation_data = {\n",
    "    \"type\": 'REGULAR',\n",
    "    \"settings\": {\n",
    "        'instrumentType': 'EQUITY',\n",
    "        'region': 'USA',\n",
    "        'universe': 'TOP3000',\n",
    "        'delay': 1,\n",
    "        'decay': 0,\n",
    "        'neutralization': 'INDUSTRY',\n",
    "        'truncation': 0.08,  \n",
    "        'pasteurization': 'ON',\n",
    "        'unitHandling': 'VERIFY',  \n",
    "        'nanHandling': 'OFF',   \n",
    "        'language': 'FASTEXPR',\n",
    "        'visualization': False,\n",
    "    },\n",
    "    'regular': 'liabilities/assets'\n",
    "}"
   ]
  },
  {
   "cell_type": "code",
   "execution_count": 13,
   "metadata": {},
   "outputs": [
    {
     "name": "stdout",
     "output_type": "stream",
     "text": [
      "Response status: 201\n",
      "Response headers: {'Date': 'Tue, 07 Jan 2025 12:41:18 GMT', 'Content-Type': 'text/html; charset=UTF-8', 'Content-Length': '0', 'Connection': 'keep-alive', 'Retry-After': '2.5', 'Location': 'https://api.worldquantbrain.com/simulations/2mGrzS19M4mh9v6f4pvXdHw', 'Allow': 'POST, OPTIONS', 'X-Request-Id': '08d50ef246af475d817e600bd933dce5', 'X-Frame-Options': 'SAMEORIGIN', 'Vary': 'Accept-Language, Cookie, Origin', 'Content-Language': 'en', 'Access-Control-Allow-Origin': 'https://platform.worldquantbrain.com', 'Access-Control-Allow-Credentials': 'true', 'Access-Control-Expose-Headers': 'Location,Retry-After', 'Strict-Transport-Security': 'max-age=31536000; includeSubDomains'}\n"
     ]
    }
   ],
   "source": [
    "from time import sleep\n",
    "import brain_01 as brain\n",
    "\n",
    "sim_resp = brain.session.post(\"https://api.worldquantbrain.com/simulations\", json=simulation_data)\n",
    "\n",
    "print(\"Response status:\", sim_resp.status_code)\n",
    "print(\"Response headers:\", dict(sim_resp.headers))\n",
    "\n",
    "sim_progress_url = sim_resp.headers['Location']\n",
    "\n",
    "while True:\n",
    "    sim_progress_resp = brain.session.get(sim_progress_url)\n",
    "    retry_after_sec = float(sim_progress_resp.headers.get('Retry-After',0))\n",
    "    if retry_after_sec > 0:\n",
    "        sleep(retry_after_sec)\n",
    "    else:\n",
    "        break\n",
    "\n",
    "alpha_id = sim_progress_resp.json()['alpha']\n",
    "\n",
    "print(\"Alpha ID:\", alpha_id)\n"
   ]
  }
 ],
 "metadata": {
  "kernelspec": {
   "display_name": "Python 3",
   "language": "python",
   "name": "python3"
  },
  "language_info": {
   "codemirror_mode": {
    "name": "ipython",
    "version": 3
   },
   "file_extension": ".py",
   "mimetype": "text/x-python",
   "name": "python",
   "nbconvert_exporter": "python",
   "pygments_lexer": "ipython3",
   "version": "3.12.8"
  }
 },
 "nbformat": 4,
 "nbformat_minor": 2
}
