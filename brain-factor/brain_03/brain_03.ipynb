{
 "cells": [
  {
   "cell_type": "code",
   "execution_count": null,
   "metadata": {},
   "outputs": [],
   "source": [
    "# login\n",
    "import sys\n",
    "import os\n",
    "\n",
    "project_root = os.path.dirname(os.path.dirname(os.getcwd()))\n",
    "if project_root not in sys.path:\n",
    "    sys.path.append(project_root)\n",
    "\n",
    "from utils.brainLogin import get_session\n",
    "\n",
    "session = get_session()\n",
    "\n",
    "response = session.post(\"https://api.worldquantbrain.com/authentication\")\n",
    "print(response.status_code)\n",
    "print(response.json())"
   ]
  },
  {
   "cell_type": "code",
   "execution_count": null,
   "metadata": {},
   "outputs": [],
   "source": [
    "# get datafields\n",
    "from utils.brainGetDataFields import get_datafields\n",
    "from utils.brainDatafieldsSearchScopeConfig import get_search_scope \n",
    "\n",
    "search_scope = get_search_scope()\n",
    "datafields = get_datafields(session, search_scope, dataset_id='fundamental6', search='', field_type='MATRIX')\n",
    "datafields_list_fnd6 = datafields['id'].values\n",
    "print(datafields_list_fnd6)\n",
    "\n"
   ]
  },
  {
   "cell_type": "code",
   "execution_count": 18,
   "metadata": {},
   "outputs": [],
   "source": [
    "# template <group_compare_op>(<ts_compare_op>(<company_fundamentals>, <days>), <group>)"
   ]
  },
  {
   "cell_type": "code",
   "execution_count": null,
   "metadata": {},
   "outputs": [],
   "source": [
    "# 将datafield和operator替换到Alpha模板（框架）中 => group_rank(ts_rank({fundamental model data}, 252), industry), 批量生成Alpha\n",
    "# 定义操作符列表\n",
    "group_compare_op = ['group_rank', 'group_zscore', 'group_neutralize']\n",
    "ts_compare_op = ['ts_rank', 'ts_zscore', 'ts_av_diff'] # 之前获取的fundamental6数据字段列表\n",
    "company_fundamentals = datafields_list_fnd6 \n",
    "days = [600, 200]\n",
    "group = ['market', 'industry', 'subindustry', 'sector', 'densify(pv13_h_f1_sector)'] # 分组方式\n",
    "\n",
    "# 初始化alpha表达式列表\n",
    "alpha_expressions = []\n",
    "\n",
    "# 嵌套循环生成所有可能的组合\n",
    "for gco in group_compare_op:\n",
    "    for tco in ts_compare_op:\n",
    "        for cf in company_fundamentals:\n",
    "            for d in days:\n",
    "                for grp in group:\n",
    "                    # 生成alpha表达式并添加到列表\n",
    "                    alpha_expressions.append(f\"{gco}({tco}({cf}, {d}), {grp})\")\n",
    "\n",
    "# 打印生成的表达式数量\n",
    "print(f'there are total {len(alpha_expressions)} alpha expressions')"
   ]
  },
  {
   "cell_type": "code",
   "execution_count": 20,
   "metadata": {},
   "outputs": [],
   "source": [
    "# 生成alpha列表\n",
    "from utils.brainSimulationConfig import get_simulation_data\n",
    "\n",
    "alpha_list = []\n",
    "for alpha_expression in alpha_expressions:\n",
    "    simulation_data = get_simulation_data(alpha_expression)\n",
    "    alpha_list.append(simulation_data)"
   ]
  },
  {
   "cell_type": "code",
   "execution_count": null,
   "metadata": {},
   "outputs": [],
   "source": [
    "print(alpha_list.__len__())\n",
    "print(alpha_list[0])"
   ]
  },
  {
   "cell_type": "code",
   "execution_count": null,
   "metadata": {},
   "outputs": [],
   "source": []
  },
  {
   "cell_type": "code",
   "execution_count": 7,
   "metadata": {},
   "outputs": [],
   "source": [
    "from utils.brainSimulation import run_alpha_simulation, rerun_alphas\n",
    "\n",
    "rerun_alphas(\"pending\")\n"
   ]
  },
  {
   "cell_type": "code",
   "execution_count": null,
   "metadata": {},
   "outputs": [],
   "source": [
    "from utils.brainSimulationRecord import check_progress\n",
    "\n",
    "check_progress('20250113_181626')"
   ]
  }
 ],
 "metadata": {
  "kernelspec": {
   "display_name": "Python 3",
   "language": "python",
   "name": "python3"
  },
  "language_info": {
   "codemirror_mode": {
    "name": "ipython",
    "version": 3
   },
   "file_extension": ".py",
   "mimetype": "text/x-python",
   "name": "python",
   "nbconvert_exporter": "python",
   "pygments_lexer": "ipython3",
   "version": "3.12.8"
  }
 },
 "nbformat": 4,
 "nbformat_minor": 2
}
