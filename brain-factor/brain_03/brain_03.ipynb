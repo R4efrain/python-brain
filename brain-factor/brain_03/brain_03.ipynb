{
 "cells": [
  {
   "cell_type": "code",
   "execution_count": 3,
   "metadata": {},
   "outputs": [
    {
     "name": "stdout",
     "output_type": "stream",
     "text": [
      "201\n",
      "{'user': {'id': 'GY27086'}, 'token': {'expiry': 14400.0}, 'permissions': ['REFERRAL']}\n"
     ]
    }
   ],
   "source": [
    "# login\n",
    "import sys\n",
    "import os\n",
    "\n",
    "project_root = os.path.dirname(os.path.dirname(os.getcwd()))\n",
    "if project_root not in sys.path:\n",
    "    sys.path.append(project_root)\n",
    "\n",
    "from utils.brainLogin import get_session\n",
    "\n",
    "session = get_session()\n",
    "\n",
    "response = session.post(\"https://api.worldquantbrain.com/authentication\")\n",
    "print(response.status_code)\n",
    "print(response.json())"
   ]
  },
  {
   "cell_type": "code",
   "execution_count": 4,
   "metadata": {},
   "outputs": [
    {
     "name": "stdout",
     "output_type": "stream",
     "text": [
      "['assets' 'assets_curr' 'bookvalue_ps' 'capex' 'cash' 'cash_st' 'cashflow'\n",
      " 'cashflow_dividends' 'cashflow_fin' 'cashflow_invst' 'cashflow_op' 'cogs'\n",
      " 'current_ratio' 'debt' 'debt_lt' 'debt_st' 'depre_amort' 'ebit' 'ebitda'\n",
      " 'employee' 'enterprise_value' 'eps' 'equity' 'fnd6_acdo' 'fnd6_acodo'\n",
      " 'fnd6_acox' 'fnd6_acqgdwl' 'fnd6_acqintan' 'fnd6_adesinda_curcd'\n",
      " 'fnd6_aldo' 'fnd6_am' 'fnd6_aodo' 'fnd6_aox' 'fnd6_aqc' 'fnd6_aqi'\n",
      " 'fnd6_aqs' 'fnd6_beta' 'fnd6_capxv' 'fnd6_ceql' 'fnd6_ch' 'fnd6_ci'\n",
      " 'fnd6_cibegni' 'fnd6_cicurr' 'fnd6_cidergl' 'fnd6_cik' 'fnd6_cimii'\n",
      " 'fnd6_ciother' 'fnd6_cipen' 'fnd6_cisecgl' 'fnd6_citotal' 'fnd6_city'\n",
      " 'fnd6_cld2' 'fnd6_cld3' 'fnd6_cld4' 'fnd6_cld5' 'fnd6_cptmfmq_actq'\n",
      " 'fnd6_cptmfmq_atq' 'fnd6_cptmfmq_ceqq' 'fnd6_cptmfmq_dlttq'\n",
      " 'fnd6_cptmfmq_dpq' 'fnd6_cptmfmq_lctq' 'fnd6_cptmfmq_oibdpq'\n",
      " 'fnd6_cptmfmq_opepsq' 'fnd6_cptmfmq_saleq' 'fnd6_cptnewqv1300_actq'\n",
      " 'fnd6_cptnewqv1300_apq' 'fnd6_cptnewqv1300_atq' 'fnd6_cptnewqv1300_ceqq'\n",
      " 'fnd6_cptnewqv1300_dlttq' 'fnd6_cptnewqv1300_dpq'\n",
      " 'fnd6_cptnewqv1300_epsf12' 'fnd6_cptnewqv1300_epsfxq'\n",
      " 'fnd6_cptnewqv1300_epsx12' 'fnd6_cptnewqv1300_lctq'\n",
      " 'fnd6_cptnewqv1300_ltq' 'fnd6_cptnewqv1300_nopiq'\n",
      " 'fnd6_cptnewqv1300_oeps12' 'fnd6_cptnewqv1300_oiadpq'\n",
      " 'fnd6_cptnewqv1300_oibdpq' 'fnd6_cptnewqv1300_opepsq'\n",
      " 'fnd6_cptnewqv1300_rectq' 'fnd6_cptnewqv1300_req'\n",
      " 'fnd6_cptnewqv1300_saleq' 'fnd6_cptrank_gvkeymap' 'fnd6_cshpri'\n",
      " 'fnd6_cshr' 'fnd6_cshtr' 'fnd6_cshtrq' 'fnd6_cstkcv' 'fnd6_cstkcvq'\n",
      " 'fnd6_currencya_curcd' 'fnd6_currencyqv1300_curcd' 'fnd6_dc' 'fnd6_dclo'\n",
      " 'fnd6_dcpstk' 'fnd6_dcvsr' 'fnd6_dcvsub' 'fnd6_dcvt' 'fnd6_dd' 'fnd6_dd1'\n",
      " 'fnd6_dd1q' 'fnd6_dd2' 'fnd6_dd3' 'fnd6_dd4' 'fnd6_dd5' 'fnd6_dilavx'\n",
      " 'fnd6_dlcch' 'fnd6_dltis' 'fnd6_dlto' 'fnd6_dltp' 'fnd6_dltr' 'fnd6_dm'\n",
      " 'fnd6_dn' 'fnd6_donr' 'fnd6_dpvieb' 'fnd6_drc' 'fnd6_drlt' 'fnd6_ds'\n",
      " 'fnd6_dudd' 'fnd6_dvpa' 'fnd6_dxd2' 'fnd6_dxd3' 'fnd6_dxd4' 'fnd6_dxd5'\n",
      " 'fnd6_ein' 'fnd6_esopct' 'fnd6_esopnr' 'fnd6_esopr' 'fnd6_esubc'\n",
      " 'fnd6_exre' 'fnd6_fatb' 'fnd6_fatc' 'fnd6_fate' 'fnd6_fatl' 'fnd6_fatn'\n",
      " 'fnd6_fato' 'fnd6_fatp' 'fnd6_fiao' 'fnd6_fic' 'fnd6_fopo' 'fnd6_fopox'\n",
      " 'fnd6_fyrc' 'fnd6_ibmii' 'fnd6_idesindq_curcd' 'fnd6_idit' 'fnd6_incorp'\n",
      " 'fnd6_intan' 'fnd6_intc' 'fnd6_intpn' 'fnd6_invfg' 'fnd6_invo'\n",
      " 'fnd6_invrm' 'fnd6_invwip' 'fnd6_itcb' 'fnd6_itci' 'fnd6_ivaco'\n",
      " 'fnd6_ivaeq' 'fnd6_ivao' 'fnd6_ivch' 'fnd6_ivst' 'fnd6_ivstch'\n",
      " 'fnd6_lcox' 'fnd6_lcoxdr' 'fnd6_lifr' 'fnd6_lno' 'fnd6_loc' 'fnd6_lol2'\n",
      " 'fnd6_loxdr' 'fnd6_lqpl1' 'fnd6_lul3' 'fnd6_mfma1_aoloch'\n",
      " 'fnd6_mfma1_apalch' 'fnd6_mfma1_at' 'fnd6_mfma1_capx' 'fnd6_mfma1_csho'\n",
      " 'fnd6_mfma1_dp' 'fnd6_mfma1_dpc' 'fnd6_mfma1_invch' 'fnd6_mfma2_oancf'\n",
      " 'fnd6_mfma2_opeps' 'fnd6_mfma2_recch' 'fnd6_mfma2_revt'\n",
      " 'fnd6_mfma2_txach' 'fnd6_mfmq_cheq' 'fnd6_mfmq_cogsq' 'fnd6_mfmq_cshprq'\n",
      " 'fnd6_mfmq_dlcq' 'fnd6_mfmq_ibcomq' 'fnd6_mfmq_mibtq' 'fnd6_mfmq_piq'\n",
      " 'fnd6_mibn' 'fnd6_mibt' 'fnd6_mkvalt' 'fnd6_mkvaltq' 'fnd6_mrc1'\n",
      " 'fnd6_mrc2' 'fnd6_mrc3' 'fnd6_mrc4' 'fnd6_mrc5' 'fnd6_mrct' 'fnd6_mrcta'\n",
      " 'fnd6_msa' 'fnd6_newa1v1300_aco' 'fnd6_newa1v1300_acominc'\n",
      " 'fnd6_newa1v1300_act' 'fnd6_newa1v1300_ano' 'fnd6_newa1v1300_ao'\n",
      " 'fnd6_newa1v1300_aocidergl' 'fnd6_newa1v1300_aociother'\n",
      " 'fnd6_newa1v1300_aocipen' 'fnd6_newa1v1300_aol2' 'fnd6_newa1v1300_aoloch'\n",
      " 'fnd6_newa1v1300_ap' 'fnd6_newa1v1300_apalch' 'fnd6_newa1v1300_aqpl1'\n",
      " 'fnd6_newa1v1300_at' 'fnd6_newa1v1300_aul3' 'fnd6_newa1v1300_bkvlps'\n",
      " 'fnd6_newa1v1300_caps' 'fnd6_newa1v1300_capx' 'fnd6_newa1v1300_ceq'\n",
      " 'fnd6_newa1v1300_ceqt' 'fnd6_newa1v1300_che' 'fnd6_newa1v1300_chech'\n",
      " 'fnd6_newa1v1300_cogs' 'fnd6_newa1v1300_cshfd' 'fnd6_newa1v1300_cshi'\n",
      " 'fnd6_newa1v1300_csho' 'fnd6_newa1v1300_cstk' 'fnd6_newa1v1300_dcom'\n",
      " 'fnd6_newa1v1300_dlc' 'fnd6_newa1v1300_dltt' 'fnd6_newa1v1300_dp'\n",
      " 'fnd6_newa1v1300_dpact' 'fnd6_newa1v1300_dpc' 'fnd6_newa1v1300_dv'\n",
      " 'fnd6_newa1v1300_dvc' 'fnd6_newa1v1300_dvt' 'fnd6_newa1v1300_ebit'\n",
      " 'fnd6_newa1v1300_ebitda' 'fnd6_newa1v1300_emp' 'fnd6_newa1v1300_epsfi'\n",
      " 'fnd6_newa1v1300_epsfx' 'fnd6_newa1v1300_epspi' 'fnd6_newa1v1300_epspx'\n",
      " 'fnd6_newa1v1300_fca' 'fnd6_newa1v1300_fincf' 'fnd6_newa1v1300_gdwl'\n",
      " 'fnd6_newa1v1300_gp' 'fnd6_newa1v1300_ib' 'fnd6_newa1v1300_ibadj'\n",
      " 'fnd6_newa1v1300_ibc' 'fnd6_newa1v1300_ibcom' 'fnd6_newa1v1300_icapt'\n",
      " 'fnd6_newa1v1300_intano' 'fnd6_newa1v1300_invch' 'fnd6_newa1v1300_invt'\n",
      " 'fnd6_newa1v1300_ivncf' 'fnd6_newa1v1300_lco' 'fnd6_newa1v1300_lct'\n",
      " 'fnd6_newa1v1300_lo' 'fnd6_newa1v1300_lse' 'fnd6_newa1v1300_lt'\n",
      " 'fnd6_newa2v1300_mib' 'fnd6_newa2v1300_mii' 'fnd6_newa2v1300_ni'\n",
      " 'fnd6_newa2v1300_nopi' 'fnd6_newa2v1300_oancf' 'fnd6_newa2v1300_oiadp'\n",
      " 'fnd6_newa2v1300_oibdp' 'fnd6_newa2v1300_opeps' 'fnd6_newa2v1300_optexd'\n",
      " 'fnd6_newa2v1300_pi' 'fnd6_newa2v1300_ppegt' 'fnd6_newa2v1300_ppent'\n",
      " 'fnd6_newa2v1300_prsho' 'fnd6_newa2v1300_rdip' 'fnd6_newa2v1300_rdipa'\n",
      " 'fnd6_newa2v1300_rdipd' 'fnd6_newa2v1300_rdipeps' 'fnd6_newa2v1300_re'\n",
      " 'fnd6_newa2v1300_recch' 'fnd6_newa2v1300_rect' 'fnd6_newa2v1300_reuna'\n",
      " 'fnd6_newa2v1300_revt' 'fnd6_newa2v1300_sale' 'fnd6_newa2v1300_seq'\n",
      " 'fnd6_newa2v1300_seqo' 'fnd6_newa2v1300_spced' 'fnd6_newa2v1300_spceeps'\n",
      " 'fnd6_newa2v1300_spi' 'fnd6_newa2v1300_stkco' 'fnd6_newa2v1300_tstk'\n",
      " 'fnd6_newa2v1300_tstkn' 'fnd6_newa2v1300_txach' 'fnd6_newa2v1300_txdb'\n",
      " 'fnd6_newa2v1300_txditc' 'fnd6_newa2v1300_txp' 'fnd6_newa2v1300_txt'\n",
      " 'fnd6_newa2v1300_wcap' 'fnd6_newa2v1300_xidoc' 'fnd6_newa2v1300_xint'\n",
      " 'fnd6_newa2v1300_xoptd' 'fnd6_newa2v1300_xopteps' 'fnd6_newa2v1300_xrd'\n",
      " 'fnd6_newa2v1300_xsga' 'fnd6_newq_xoptdqp' 'fnd6_newq_xoptepsqp'\n",
      " 'fnd6_newq_xoptqp' 'fnd6_newqv1300_acomincq' 'fnd6_newqv1300_acoq'\n",
      " 'fnd6_newqv1300_altoq' 'fnd6_newqv1300_ancq' 'fnd6_newqv1300_anoq'\n",
      " 'fnd6_newqv1300_aociderglq' 'fnd6_newqv1300_aociotherq'\n",
      " 'fnd6_newqv1300_aocipenq' 'fnd6_newqv1300_aocisecglq'\n",
      " 'fnd6_newqv1300_aol2q' 'fnd6_newqv1300_aoq' 'fnd6_newqv1300_aqpl1q'\n",
      " 'fnd6_newqv1300_aul3q' 'fnd6_newqv1300_capsq' 'fnd6_newqv1300_chq'\n",
      " 'fnd6_newqv1300_cibegniq' 'fnd6_newqv1300_cicurrq'\n",
      " 'fnd6_newqv1300_ciderglq' 'fnd6_newqv1300_cimiiq'\n",
      " 'fnd6_newqv1300_ciotherq' 'fnd6_newqv1300_cipenq' 'fnd6_newqv1300_ciq'\n",
      " 'fnd6_newqv1300_cisecglq' 'fnd6_newqv1300_citotalq'\n",
      " 'fnd6_newqv1300_cogsq' 'fnd6_newqv1300_csh12q' 'fnd6_newqv1300_cshfdq'\n",
      " 'fnd6_newqv1300_cshiq' 'fnd6_newqv1300_cshopq' 'fnd6_newqv1300_cshoq'\n",
      " 'fnd6_newqv1300_cshprq' 'fnd6_newqv1300_cstkq' 'fnd6_newqv1300_dcomq'\n",
      " 'fnd6_newqv1300_dilavq' 'fnd6_newqv1300_dlcq' 'fnd6_newqv1300_dpactq'\n",
      " 'fnd6_newqv1300_drcq' 'fnd6_newqv1300_drltq' 'fnd6_newqv1300_epsfiq'\n",
      " 'fnd6_newqv1300_epspiq' 'fnd6_newqv1300_epspxq' 'fnd6_newqv1300_esopnrq'\n",
      " 'fnd6_newqv1300_esoprq' 'fnd6_newqv1300_fcaq' 'fnd6_newqv1300_gdwlq'\n",
      " 'fnd6_newqv1300_glcea12' 'fnd6_newqv1300_glced12'\n",
      " 'fnd6_newqv1300_glceeps12' 'fnd6_newqv1300_ibadj12'\n",
      " 'fnd6_newqv1300_ibadjq' 'fnd6_newqv1300_ibcomq' 'fnd6_newqv1300_ibmiiq'\n",
      " 'fnd6_newqv1300_ibq' 'fnd6_newqv1300_icaptq' 'fnd6_newqv1300_intanoq'\n",
      " 'fnd6_newqv1300_intanq' 'fnd6_newqv1300_invfgq' 'fnd6_newqv1300_invoq'\n",
      " 'fnd6_newqv1300_invrmq' 'fnd6_newqv1300_invtq' 'fnd6_newqv1300_invwipq'\n",
      " 'fnd6_newqv1300_ivltq' 'fnd6_newqv1300_ivstq' 'fnd6_newqv1300_lcoq'\n",
      " 'fnd6_newqv1300_lltq' 'fnd6_newqv1300_lnoq' 'fnd6_newqv1300_lol2q'\n",
      " 'fnd6_newqv1300_loq' 'fnd6_newqv1300_loxdrq' 'fnd6_newqv1300_lqpl1q'\n",
      " 'fnd6_newqv1300_lseq' 'fnd6_newqv1300_ltmibq' 'fnd6_newqv1300_lul3q'\n",
      " 'fnd6_newqv1300_mibnq' 'fnd6_newqv1300_mibtq' 'fnd6_newqv1300_miiq'\n",
      " 'fnd6_newqv1300_msaq' 'fnd6_newqv1300_oepf12' 'fnd6_newqv1300_oepsxq'\n",
      " 'fnd6_newqv1300_optfvgrq' 'fnd6_newqv1300_optrfrq' 'fnd6_newqv1300_piq'\n",
      " 'fnd6_newqv1300_pncq' 'fnd6_newqv1300_ppegtq' 'fnd6_newqv1300_ppentq'\n",
      " 'fnd6_newqv1300_prcaq' 'fnd6_newqv1300_prcdq' 'fnd6_newqv1300_prcepsq'\n",
      " 'fnd6_newqv1300_prcraq' 'fnd6_newqv1300_rcpq' 'fnd6_newqv1300_rdipaq'\n",
      " 'fnd6_newqv1300_rdipdq' 'fnd6_newqv1300_rdipepsq' 'fnd6_newqv1300_rdipq'\n",
      " 'fnd6_newqv1300_recdq' 'fnd6_newqv1300_rectaq' 'fnd6_newqv1300_rectoq'\n",
      " 'fnd6_newqv1300_rectrq' 'fnd6_newqv1300_reunaq' 'fnd6_newqv1300_revtq'\n",
      " 'fnd6_newqv1300_seqoq' 'fnd6_newqv1300_seqq' 'fnd6_newqv1300_spcedpq'\n",
      " 'fnd6_newqv1300_spcedq' 'fnd6_newqv1300_spceepsp12'\n",
      " 'fnd6_newqv1300_spceepspq' 'fnd6_newqv1300_spceepsq'\n",
      " 'fnd6_newqv1300_spcep12' 'fnd6_newqv1300_spcepd12'\n",
      " 'fnd6_newqv1300_spcepq' 'fnd6_newqv1300_spceq' 'fnd6_newqv1300_spiq'\n",
      " 'fnd6_newqv1300_stkcoq' 'fnd6_newqv1300_stkcpaq' 'fnd6_newqv1300_teqq'\n",
      " 'fnd6_newqv1300_tfvaq' 'fnd6_newqv1300_tfvceq' 'fnd6_newqv1300_tfvlq'\n",
      " 'fnd6_newqv1300_tstknq' 'fnd6_newqv1300_tstkq' 'fnd6_newqv1300_txdbaq'\n",
      " 'fnd6_newqv1300_txdbq' 'fnd6_newqv1300_txdiq' 'fnd6_newqv1300_txditcq'\n",
      " 'fnd6_newqv1300_txpq' 'fnd6_newqv1300_txtq' 'fnd6_newqv1300_txwq'\n",
      " 'fnd6_newqv1300_wcapq' 'fnd6_newqv1300_xintq' 'fnd6_newqv1300_xoprq'\n",
      " 'fnd6_newqv1300_xoptdq' 'fnd6_newqv1300_xoptepsq' 'fnd6_newqv1300_xoptq'\n",
      " 'fnd6_newqv1300_xrdq' 'fnd6_newqv1300_xsgaq' 'fnd6_niadj' 'fnd6_nopio'\n",
      " 'fnd6_np' 'fnd6_npq' 'fnd6_oprepsx' 'fnd6_optca' 'fnd6_optdr'\n",
      " 'fnd6_optdrq' 'fnd6_optex' 'fnd6_optfvgr' 'fnd6_optgr' 'fnd6_optlife'\n",
      " 'fnd6_optlifeq' 'fnd6_optosby' 'fnd6_optosey' 'fnd6_optprcby'\n",
      " 'fnd6_optprcca' 'fnd6_optprcex' 'fnd6_optprcey' 'fnd6_optprcgr'\n",
      " 'fnd6_optprcwa' 'fnd6_optrfr' 'fnd6_optvol' 'fnd6_optvolq' 'fnd6_pidom'\n",
      " 'fnd6_pifo' 'fnd6_pncdq' 'fnd6_pncepsq' 'fnd6_pnrsho' 'fnd6_ppeveb'\n",
      " 'fnd6_prcc' 'fnd6_prccq' 'fnd6_prch' 'fnd6_prchq' 'fnd6_prcl'\n",
      " 'fnd6_prclq' 'fnd6_prstkc' 'fnd6_pstkc' 'fnd6_pstkl' 'fnd6_pstkrv'\n",
      " 'fnd6_rank' 'fnd6_rea' 'fnd6_reajo' 'fnd6_recco' 'fnd6_recd' 'fnd6_recta'\n",
      " 'fnd6_rectr' 'fnd6_siv' 'fnd6_spce' 'fnd6_sppe' 'fnd6_sppiv' 'fnd6_sstk'\n",
      " 'fnd6_state' 'fnd6_stkcpa' 'fnd6_teq' 'fnd6_tfva' 'fnd6_tfvce'\n",
      " 'fnd6_tfvl' 'fnd6_tlcf' 'fnd6_tstkc' 'fnd6_txbco' 'fnd6_txbcof'\n",
      " 'fnd6_txc' 'fnd6_txdba' 'fnd6_txdbca' 'fnd6_txdbcl' 'fnd6_txdbclq'\n",
      " 'fnd6_txdc' 'fnd6_txdfed' 'fnd6_txdfo' 'fnd6_txdi' 'fnd6_txds'\n",
      " 'fnd6_txfed' 'fnd6_txfo' 'fnd6_txndb' 'fnd6_txndba' 'fnd6_txndbl'\n",
      " 'fnd6_txndbr' 'fnd6_txo' 'fnd6_txpd' 'fnd6_txr' 'fnd6_txs'\n",
      " 'fnd6_txtubadjust' 'fnd6_txtubbegin' 'fnd6_txtubend' 'fnd6_txtubposdec'\n",
      " 'fnd6_txtubposinc' 'fnd6_txtubpospdec' 'fnd6_txtubpospinc'\n",
      " 'fnd6_txtubsettle' 'fnd6_txtubsoflimit' 'fnd6_txtubtxtr'\n",
      " 'fnd6_txtubxintbs' 'fnd6_txtubxintis' 'fnd6_txw' 'fnd6_weburl'\n",
      " 'fnd6_xacc' 'fnd6_xaccq' 'fnd6_xad' 'fnd6_xintopt' 'fnd6_xopr' 'fnd6_xpp'\n",
      " 'fnd6_xpr' 'fnd6_xrent' 'fnd6_zipcode' 'goodwill' 'income'\n",
      " 'income_beforeextra' 'income_tax' 'interest_expense' 'inventory'\n",
      " 'inventory_turnover' 'invested_capital' 'liabilities' 'liabilities_curr'\n",
      " 'operating_expense' 'operating_income' 'ppent' 'pretax_income'\n",
      " 'rd_expense' 'receivable' 'retained_earnings' 'return_assets'\n",
      " 'return_equity' 'revenue' 'sales' 'sales_growth' 'sales_ps' 'sga_expense'\n",
      " 'working_capital']\n"
     ]
    }
   ],
   "source": [
    "# get datafields\n",
    "from utils.brainGetDataFields import get_datafields\n",
    "from utils.brainDatafieldsSearchScopeConfig import get_search_scope \n",
    "\n",
    "search_scope = get_search_scope()\n",
    "datafields = get_datafields(session, search_scope, dataset_id='fundamental6', search='', field_type='MATRIX')\n",
    "datafields_list_fnd6 = datafields['id'].values\n",
    "print(datafields_list_fnd6)\n",
    "\n"
   ]
  },
  {
   "cell_type": "code",
   "execution_count": null,
   "metadata": {},
   "outputs": [],
   "source": [
    "# template <group_compare_op>(<ts_compare_op>(<company_fundamentals>, <days>), <group>)"
   ]
  },
  {
   "cell_type": "code",
   "execution_count": 6,
   "metadata": {},
   "outputs": [
    {
     "name": "stdout",
     "output_type": "stream",
     "text": [
      "there are total 51660 alpha expressions\n"
     ]
    }
   ],
   "source": [
    "# 将datafield和operator替换到Alpha模板（框架）中 => group_rank(ts_rank({fundamental model data}, 252), industry), 批量生成Alpha\n",
    "# 定义操作符列表\n",
    "group_compare_op = ['group_rank', 'group_zscore', 'group_neutralize']\n",
    "ts_compare_op = ['ts_rank', 'ts_zscore', 'ts_av_diff'] # 之前获取的fundamental6数据字段列表\n",
    "company_fundamentals = datafields_list_fnd6 \n",
    "days = [600, 200]\n",
    "group = ['market', 'industry', 'subindustry', 'sector', 'densify(pv13_h_f1_sector)'] # 分组方式\n",
    "\n",
    "# 初始化alpha表达式列表\n",
    "alpha_expressions = []\n",
    "\n",
    "# 嵌套循环生成所有可能的组合\n",
    "for gco in group_compare_op:\n",
    "    for tco in ts_compare_op:\n",
    "        for cf in company_fundamentals:\n",
    "            for d in days:\n",
    "                for grp in group:\n",
    "                    # 生成alpha表达式并添加到列表\n",
    "                    alpha_expressions.append(f\"{gco}({tco}({cf}, {d}), {grp})\")\n",
    "\n",
    "# 打印生成的表达式数量\n",
    "print(f'there are total {len(alpha_expressions)} alpha expressions')"
   ]
  },
  {
   "cell_type": "code",
   "execution_count": 7,
   "metadata": {},
   "outputs": [],
   "source": [
    "# 生成alpha列表\n",
    "from utils.brainSimulationConfig import get_simulation_data\n",
    "\n",
    "alpha_list = []\n",
    "for alpha_expression in alpha_expressions:\n",
    "    simulation_data = get_simulation_data(alpha_expression)\n",
    "    alpha_list.append(simulation_data)"
   ]
  },
  {
   "cell_type": "code",
   "execution_count": 8,
   "metadata": {},
   "outputs": [
    {
     "name": "stdout",
     "output_type": "stream",
     "text": [
      "51660\n",
      "{'type': 'REGULAR', 'settings': {'instrumentType': 'EQUITY', 'region': 'USA', 'universe': 'TOP3000', 'delay': 1, 'decay': 0, 'neutralization': 'SUBINDUSTRY', 'truncation': 0.01, 'pasteurization': 'ON', 'unitHandling': 'VERIFY', 'nanHandling': 'ON', 'language': 'FASTEXPR', 'visualization': False}, 'regular': 'group_rank(ts_rank(assets, 600), market)'}\n"
     ]
    }
   ],
   "source": [
    "print(alpha_list.__len__())\n",
    "print(alpha_list[0])"
   ]
  },
  {
   "cell_type": "code",
   "execution_count": 12,
   "metadata": {},
   "outputs": [],
   "source": [
    "from utils.brainSimulation import run_alpha_simulation\n",
    "\n",
    "run_alpha_simulation(alpha_list)\n"
   ]
  },
  {
   "cell_type": "code",
   "execution_count": 23,
   "metadata": {},
   "outputs": [
    {
     "ename": "KeyboardInterrupt",
     "evalue": "",
     "output_type": "error",
     "traceback": [
      "\u001b[1;31m---------------------------------------------------------------------------\u001b[0m",
      "\u001b[1;31mKeyboardInterrupt\u001b[0m                         Traceback (most recent call last)",
      "Cell \u001b[1;32mIn[23], line 6\u001b[0m\n\u001b[0;32m      4\u001b[0m client \u001b[38;5;241m=\u001b[39m MongoClient(\u001b[38;5;124m'\u001b[39m\u001b[38;5;124mmongodb://localhost:27017/\u001b[39m\u001b[38;5;124m'\u001b[39m)\n\u001b[0;32m      5\u001b[0m db \u001b[38;5;241m=\u001b[39m client[\u001b[38;5;124m'\u001b[39m\u001b[38;5;124mbrain_simulation\u001b[39m\u001b[38;5;124m'\u001b[39m]\n\u001b[1;32m----> 6\u001b[0m \u001b[38;5;28mprint\u001b[39m(\u001b[43mdb\u001b[49m\u001b[38;5;241;43m.\u001b[39;49m\u001b[43mlist_collection_names\u001b[49m\u001b[43m(\u001b[49m\u001b[43m)\u001b[49m)\n",
      "File \u001b[1;32m~\\AppData\\Roaming\\Python\\Python312\\site-packages\\pymongo\\synchronous\\database.py:1226\u001b[0m, in \u001b[0;36mDatabase.list_collection_names\u001b[1;34m(self, session, filter, comment, **kwargs)\u001b[0m\n\u001b[0;32m   1194\u001b[0m \u001b[38;5;28;01mdef\u001b[39;00m\u001b[38;5;250m \u001b[39m\u001b[38;5;21mlist_collection_names\u001b[39m(\n\u001b[0;32m   1195\u001b[0m     \u001b[38;5;28mself\u001b[39m,\n\u001b[0;32m   1196\u001b[0m     session: Optional[ClientSession] \u001b[38;5;241m=\u001b[39m \u001b[38;5;28;01mNone\u001b[39;00m,\n\u001b[1;32m   (...)\u001b[0m\n\u001b[0;32m   1199\u001b[0m     \u001b[38;5;241m*\u001b[39m\u001b[38;5;241m*\u001b[39mkwargs: Any,\n\u001b[0;32m   1200\u001b[0m ) \u001b[38;5;241m-\u001b[39m\u001b[38;5;241m>\u001b[39m \u001b[38;5;28mlist\u001b[39m[\u001b[38;5;28mstr\u001b[39m]:\n\u001b[0;32m   1201\u001b[0m \u001b[38;5;250m    \u001b[39m\u001b[38;5;124;03m\"\"\"Get a list of all the collection names in this database.\u001b[39;00m\n\u001b[0;32m   1202\u001b[0m \n\u001b[0;32m   1203\u001b[0m \u001b[38;5;124;03m    For example, to list all non-system collections::\u001b[39;00m\n\u001b[1;32m   (...)\u001b[0m\n\u001b[0;32m   1224\u001b[0m \u001b[38;5;124;03m    .. versionadded:: 3.6\u001b[39;00m\n\u001b[0;32m   1225\u001b[0m \u001b[38;5;124;03m    \"\"\"\u001b[39;00m\n\u001b[1;32m-> 1226\u001b[0m     \u001b[38;5;28;01mreturn\u001b[39;00m \u001b[38;5;28;43mself\u001b[39;49m\u001b[38;5;241;43m.\u001b[39;49m\u001b[43m_list_collection_names\u001b[49m\u001b[43m(\u001b[49m\u001b[43msession\u001b[49m\u001b[43m,\u001b[49m\u001b[43m \u001b[49m\u001b[38;5;28;43mfilter\u001b[39;49m\u001b[43m,\u001b[49m\u001b[43m \u001b[49m\u001b[43mcomment\u001b[49m\u001b[43m,\u001b[49m\u001b[43m \u001b[49m\u001b[38;5;241;43m*\u001b[39;49m\u001b[38;5;241;43m*\u001b[39;49m\u001b[43mkwargs\u001b[49m\u001b[43m)\u001b[49m\n",
      "File \u001b[1;32m~\\AppData\\Roaming\\Python\\Python312\\site-packages\\pymongo\\synchronous\\database.py:1191\u001b[0m, in \u001b[0;36mDatabase._list_collection_names\u001b[1;34m(self, session, filter, comment, **kwargs)\u001b[0m\n\u001b[0;32m   1187\u001b[0m     \u001b[38;5;28;01mif\u001b[39;00m \u001b[38;5;129;01mnot\u001b[39;00m \u001b[38;5;28mfilter\u001b[39m \u001b[38;5;129;01mor\u001b[39;00m (\u001b[38;5;28mlen\u001b[39m(\u001b[38;5;28mfilter\u001b[39m) \u001b[38;5;241m==\u001b[39m \u001b[38;5;241m1\u001b[39m \u001b[38;5;129;01mand\u001b[39;00m \u001b[38;5;124m\"\u001b[39m\u001b[38;5;124mname\u001b[39m\u001b[38;5;124m\"\u001b[39m \u001b[38;5;129;01min\u001b[39;00m \u001b[38;5;28mfilter\u001b[39m):\n\u001b[0;32m   1188\u001b[0m         kwargs[\u001b[38;5;124m\"\u001b[39m\u001b[38;5;124mnameOnly\u001b[39m\u001b[38;5;124m\"\u001b[39m] \u001b[38;5;241m=\u001b[39m \u001b[38;5;28;01mTrue\u001b[39;00m\n\u001b[0;32m   1190\u001b[0m \u001b[38;5;28;01mreturn\u001b[39;00m [\n\u001b[1;32m-> 1191\u001b[0m     result[\u001b[38;5;124m\"\u001b[39m\u001b[38;5;124mname\u001b[39m\u001b[38;5;124m\"\u001b[39m] \u001b[38;5;28;01mfor\u001b[39;00m result \u001b[38;5;129;01min\u001b[39;00m \u001b[38;5;28;43mself\u001b[39;49m\u001b[38;5;241;43m.\u001b[39;49m\u001b[43m_list_collections_helper\u001b[49m\u001b[43m(\u001b[49m\u001b[43msession\u001b[49m\u001b[38;5;241;43m=\u001b[39;49m\u001b[43msession\u001b[49m\u001b[43m,\u001b[49m\u001b[43m \u001b[49m\u001b[38;5;241;43m*\u001b[39;49m\u001b[38;5;241;43m*\u001b[39;49m\u001b[43mkwargs\u001b[49m\u001b[43m)\u001b[49m\n\u001b[0;32m   1192\u001b[0m ]\n",
      "File \u001b[1;32m~\\AppData\\Roaming\\Python\\Python312\\site-packages\\pymongo\\synchronous\\database.py:1138\u001b[0m, in \u001b[0;36mDatabase._list_collections_helper\u001b[1;34m(self, session, filter, comment, **kwargs)\u001b[0m\n\u001b[0;32m   1130\u001b[0m \u001b[38;5;28;01mdef\u001b[39;00m\u001b[38;5;250m \u001b[39m\u001b[38;5;21m_cmd\u001b[39m(\n\u001b[0;32m   1131\u001b[0m     session: Optional[ClientSession],\n\u001b[0;32m   1132\u001b[0m     _server: Server,\n\u001b[0;32m   1133\u001b[0m     conn: Connection,\n\u001b[0;32m   1134\u001b[0m     read_preference: _ServerMode,\n\u001b[0;32m   1135\u001b[0m ) \u001b[38;5;241m-\u001b[39m\u001b[38;5;241m>\u001b[39m CommandCursor[MutableMapping[\u001b[38;5;28mstr\u001b[39m, Any]]:\n\u001b[0;32m   1136\u001b[0m     \u001b[38;5;28;01mreturn\u001b[39;00m \u001b[38;5;28mself\u001b[39m\u001b[38;5;241m.\u001b[39m_list_collections(conn, session, read_preference\u001b[38;5;241m=\u001b[39mread_preference, \u001b[38;5;241m*\u001b[39m\u001b[38;5;241m*\u001b[39mkwargs)\n\u001b[1;32m-> 1138\u001b[0m \u001b[38;5;28;01mreturn\u001b[39;00m \u001b[38;5;28;43mself\u001b[39;49m\u001b[38;5;241;43m.\u001b[39;49m\u001b[43m_client\u001b[49m\u001b[38;5;241;43m.\u001b[39;49m\u001b[43m_retryable_read\u001b[49m\u001b[43m(\u001b[49m\n\u001b[0;32m   1139\u001b[0m \u001b[43m    \u001b[49m\u001b[43m_cmd\u001b[49m\u001b[43m,\u001b[49m\u001b[43m \u001b[49m\u001b[43mread_pref\u001b[49m\u001b[43m,\u001b[49m\u001b[43m \u001b[49m\u001b[43msession\u001b[49m\u001b[43m,\u001b[49m\u001b[43m \u001b[49m\u001b[43moperation\u001b[49m\u001b[38;5;241;43m=\u001b[39;49m\u001b[43m_Op\u001b[49m\u001b[38;5;241;43m.\u001b[39;49m\u001b[43mLIST_COLLECTIONS\u001b[49m\n\u001b[0;32m   1140\u001b[0m \u001b[43m\u001b[49m\u001b[43m)\u001b[49m\n",
      "File \u001b[1;32m~\\AppData\\Roaming\\Python\\Python312\\site-packages\\pymongo\\synchronous\\mongo_client.py:1863\u001b[0m, in \u001b[0;36mMongoClient._retryable_read\u001b[1;34m(self, func, read_pref, session, operation, address, retryable, operation_id)\u001b[0m\n\u001b[0;32m   1858\u001b[0m \u001b[38;5;66;03m# Ensure that the client supports retrying on reads and there is no session in\u001b[39;00m\n\u001b[0;32m   1859\u001b[0m \u001b[38;5;66;03m# transaction, otherwise, we will not support retry behavior for this call.\u001b[39;00m\n\u001b[0;32m   1860\u001b[0m retryable \u001b[38;5;241m=\u001b[39m \u001b[38;5;28mbool\u001b[39m(\n\u001b[0;32m   1861\u001b[0m     retryable \u001b[38;5;129;01mand\u001b[39;00m \u001b[38;5;28mself\u001b[39m\u001b[38;5;241m.\u001b[39moptions\u001b[38;5;241m.\u001b[39mretry_reads \u001b[38;5;129;01mand\u001b[39;00m \u001b[38;5;129;01mnot\u001b[39;00m (session \u001b[38;5;129;01mand\u001b[39;00m session\u001b[38;5;241m.\u001b[39min_transaction)\n\u001b[0;32m   1862\u001b[0m )\n\u001b[1;32m-> 1863\u001b[0m \u001b[38;5;28;01mreturn\u001b[39;00m \u001b[38;5;28;43mself\u001b[39;49m\u001b[38;5;241;43m.\u001b[39;49m\u001b[43m_retry_internal\u001b[49m\u001b[43m(\u001b[49m\n\u001b[0;32m   1864\u001b[0m \u001b[43m    \u001b[49m\u001b[43mfunc\u001b[49m\u001b[43m,\u001b[49m\n\u001b[0;32m   1865\u001b[0m \u001b[43m    \u001b[49m\u001b[43msession\u001b[49m\u001b[43m,\u001b[49m\n\u001b[0;32m   1866\u001b[0m \u001b[43m    \u001b[49m\u001b[38;5;28;43;01mNone\u001b[39;49;00m\u001b[43m,\u001b[49m\n\u001b[0;32m   1867\u001b[0m \u001b[43m    \u001b[49m\u001b[43moperation\u001b[49m\u001b[43m,\u001b[49m\n\u001b[0;32m   1868\u001b[0m \u001b[43m    \u001b[49m\u001b[43mis_read\u001b[49m\u001b[38;5;241;43m=\u001b[39;49m\u001b[38;5;28;43;01mTrue\u001b[39;49;00m\u001b[43m,\u001b[49m\n\u001b[0;32m   1869\u001b[0m \u001b[43m    \u001b[49m\u001b[43maddress\u001b[49m\u001b[38;5;241;43m=\u001b[39;49m\u001b[43maddress\u001b[49m\u001b[43m,\u001b[49m\n\u001b[0;32m   1870\u001b[0m \u001b[43m    \u001b[49m\u001b[43mread_pref\u001b[49m\u001b[38;5;241;43m=\u001b[39;49m\u001b[43mread_pref\u001b[49m\u001b[43m,\u001b[49m\n\u001b[0;32m   1871\u001b[0m \u001b[43m    \u001b[49m\u001b[43mretryable\u001b[49m\u001b[38;5;241;43m=\u001b[39;49m\u001b[43mretryable\u001b[49m\u001b[43m,\u001b[49m\n\u001b[0;32m   1872\u001b[0m \u001b[43m    \u001b[49m\u001b[43moperation_id\u001b[49m\u001b[38;5;241;43m=\u001b[39;49m\u001b[43moperation_id\u001b[49m\u001b[43m,\u001b[49m\n\u001b[0;32m   1873\u001b[0m \u001b[43m\u001b[49m\u001b[43m)\u001b[49m\n",
      "File \u001b[1;32m~\\AppData\\Roaming\\Python\\Python312\\site-packages\\pymongo\\_csot.py:119\u001b[0m, in \u001b[0;36mapply.<locals>.csot_wrapper\u001b[1;34m(self, *args, **kwargs)\u001b[0m\n\u001b[0;32m    117\u001b[0m         \u001b[38;5;28;01mwith\u001b[39;00m _TimeoutContext(timeout):\n\u001b[0;32m    118\u001b[0m             \u001b[38;5;28;01mreturn\u001b[39;00m func(\u001b[38;5;28mself\u001b[39m, \u001b[38;5;241m*\u001b[39margs, \u001b[38;5;241m*\u001b[39m\u001b[38;5;241m*\u001b[39mkwargs)\n\u001b[1;32m--> 119\u001b[0m \u001b[38;5;28;01mreturn\u001b[39;00m \u001b[43mfunc\u001b[49m\u001b[43m(\u001b[49m\u001b[38;5;28;43mself\u001b[39;49m\u001b[43m,\u001b[49m\u001b[43m \u001b[49m\u001b[38;5;241;43m*\u001b[39;49m\u001b[43margs\u001b[49m\u001b[43m,\u001b[49m\u001b[43m \u001b[49m\u001b[38;5;241;43m*\u001b[39;49m\u001b[38;5;241;43m*\u001b[39;49m\u001b[43mkwargs\u001b[49m\u001b[43m)\u001b[49m\n",
      "File \u001b[1;32m~\\AppData\\Roaming\\Python\\Python312\\site-packages\\pymongo\\synchronous\\mongo_client.py:1830\u001b[0m, in \u001b[0;36mMongoClient._retry_internal\u001b[1;34m(self, func, session, bulk, operation, is_read, address, read_pref, retryable, operation_id)\u001b[0m\n\u001b[0;32m   1793\u001b[0m \u001b[38;5;129m@_csot\u001b[39m\u001b[38;5;241m.\u001b[39mapply\n\u001b[0;32m   1794\u001b[0m \u001b[38;5;28;01mdef\u001b[39;00m\u001b[38;5;250m \u001b[39m\u001b[38;5;21m_retry_internal\u001b[39m(\n\u001b[0;32m   1795\u001b[0m     \u001b[38;5;28mself\u001b[39m,\n\u001b[1;32m   (...)\u001b[0m\n\u001b[0;32m   1804\u001b[0m     operation_id: Optional[\u001b[38;5;28mint\u001b[39m] \u001b[38;5;241m=\u001b[39m \u001b[38;5;28;01mNone\u001b[39;00m,\n\u001b[0;32m   1805\u001b[0m ) \u001b[38;5;241m-\u001b[39m\u001b[38;5;241m>\u001b[39m T:\n\u001b[0;32m   1806\u001b[0m \u001b[38;5;250m    \u001b[39m\u001b[38;5;124;03m\"\"\"Internal retryable helper for all client transactions.\u001b[39;00m\n\u001b[0;32m   1807\u001b[0m \n\u001b[0;32m   1808\u001b[0m \u001b[38;5;124;03m    :param func: Callback function we want to retry\u001b[39;00m\n\u001b[1;32m   (...)\u001b[0m\n\u001b[0;32m   1817\u001b[0m \u001b[38;5;124;03m    :return: Output of the calling func()\u001b[39;00m\n\u001b[0;32m   1818\u001b[0m \u001b[38;5;124;03m    \"\"\"\u001b[39;00m\n\u001b[0;32m   1819\u001b[0m     \u001b[38;5;28;01mreturn\u001b[39;00m \u001b[43m_ClientConnectionRetryable\u001b[49m\u001b[43m(\u001b[49m\n\u001b[0;32m   1820\u001b[0m \u001b[43m        \u001b[49m\u001b[43mmongo_client\u001b[49m\u001b[38;5;241;43m=\u001b[39;49m\u001b[38;5;28;43mself\u001b[39;49m\u001b[43m,\u001b[49m\n\u001b[0;32m   1821\u001b[0m \u001b[43m        \u001b[49m\u001b[43mfunc\u001b[49m\u001b[38;5;241;43m=\u001b[39;49m\u001b[43mfunc\u001b[49m\u001b[43m,\u001b[49m\n\u001b[0;32m   1822\u001b[0m \u001b[43m        \u001b[49m\u001b[43mbulk\u001b[49m\u001b[38;5;241;43m=\u001b[39;49m\u001b[43mbulk\u001b[49m\u001b[43m,\u001b[49m\n\u001b[0;32m   1823\u001b[0m \u001b[43m        \u001b[49m\u001b[43moperation\u001b[49m\u001b[38;5;241;43m=\u001b[39;49m\u001b[43moperation\u001b[49m\u001b[43m,\u001b[49m\n\u001b[0;32m   1824\u001b[0m \u001b[43m        \u001b[49m\u001b[43mis_read\u001b[49m\u001b[38;5;241;43m=\u001b[39;49m\u001b[43mis_read\u001b[49m\u001b[43m,\u001b[49m\n\u001b[0;32m   1825\u001b[0m \u001b[43m        \u001b[49m\u001b[43msession\u001b[49m\u001b[38;5;241;43m=\u001b[39;49m\u001b[43msession\u001b[49m\u001b[43m,\u001b[49m\n\u001b[0;32m   1826\u001b[0m \u001b[43m        \u001b[49m\u001b[43mread_pref\u001b[49m\u001b[38;5;241;43m=\u001b[39;49m\u001b[43mread_pref\u001b[49m\u001b[43m,\u001b[49m\n\u001b[0;32m   1827\u001b[0m \u001b[43m        \u001b[49m\u001b[43maddress\u001b[49m\u001b[38;5;241;43m=\u001b[39;49m\u001b[43maddress\u001b[49m\u001b[43m,\u001b[49m\n\u001b[0;32m   1828\u001b[0m \u001b[43m        \u001b[49m\u001b[43mretryable\u001b[49m\u001b[38;5;241;43m=\u001b[39;49m\u001b[43mretryable\u001b[49m\u001b[43m,\u001b[49m\n\u001b[0;32m   1829\u001b[0m \u001b[43m        \u001b[49m\u001b[43moperation_id\u001b[49m\u001b[38;5;241;43m=\u001b[39;49m\u001b[43moperation_id\u001b[49m\u001b[43m,\u001b[49m\n\u001b[1;32m-> 1830\u001b[0m \u001b[43m    \u001b[49m\u001b[43m)\u001b[49m\u001b[38;5;241;43m.\u001b[39;49m\u001b[43mrun\u001b[49m\u001b[43m(\u001b[49m\u001b[43m)\u001b[49m\n",
      "File \u001b[1;32m~\\AppData\\Roaming\\Python\\Python312\\site-packages\\pymongo\\synchronous\\mongo_client.py:2554\u001b[0m, in \u001b[0;36m_ClientConnectionRetryable.run\u001b[1;34m(self)\u001b[0m\n\u001b[0;32m   2552\u001b[0m \u001b[38;5;28mself\u001b[39m\u001b[38;5;241m.\u001b[39m_check_last_error(check_csot\u001b[38;5;241m=\u001b[39m\u001b[38;5;28;01mTrue\u001b[39;00m)\n\u001b[0;32m   2553\u001b[0m \u001b[38;5;28;01mtry\u001b[39;00m:\n\u001b[1;32m-> 2554\u001b[0m     \u001b[38;5;28;01mreturn\u001b[39;00m \u001b[38;5;28;43mself\u001b[39;49m\u001b[38;5;241;43m.\u001b[39;49m\u001b[43m_read\u001b[49m\u001b[43m(\u001b[49m\u001b[43m)\u001b[49m \u001b[38;5;28;01mif\u001b[39;00m \u001b[38;5;28mself\u001b[39m\u001b[38;5;241m.\u001b[39m_is_read \u001b[38;5;28;01melse\u001b[39;00m \u001b[38;5;28mself\u001b[39m\u001b[38;5;241m.\u001b[39m_write()\n\u001b[0;32m   2555\u001b[0m \u001b[38;5;28;01mexcept\u001b[39;00m ServerSelectionTimeoutError:\n\u001b[0;32m   2556\u001b[0m     \u001b[38;5;66;03m# The application may think the write was never attempted\u001b[39;00m\n\u001b[0;32m   2557\u001b[0m     \u001b[38;5;66;03m# if we raise ServerSelectionTimeoutError on the retry\u001b[39;00m\n\u001b[0;32m   2558\u001b[0m     \u001b[38;5;66;03m# attempt. Raise the original exception instead.\u001b[39;00m\n\u001b[0;32m   2559\u001b[0m     \u001b[38;5;28mself\u001b[39m\u001b[38;5;241m.\u001b[39m_check_last_error()\n",
      "File \u001b[1;32m~\\AppData\\Roaming\\Python\\Python312\\site-packages\\pymongo\\synchronous\\mongo_client.py:2689\u001b[0m, in \u001b[0;36m_ClientConnectionRetryable._read\u001b[1;34m(self)\u001b[0m\n\u001b[0;32m   2684\u001b[0m \u001b[38;5;28;01mdef\u001b[39;00m\u001b[38;5;250m \u001b[39m\u001b[38;5;21m_read\u001b[39m(\u001b[38;5;28mself\u001b[39m) \u001b[38;5;241m-\u001b[39m\u001b[38;5;241m>\u001b[39m T:\n\u001b[0;32m   2685\u001b[0m \u001b[38;5;250m    \u001b[39m\u001b[38;5;124;03m\"\"\"Wrapper method for read-type retryable client executions\u001b[39;00m\n\u001b[0;32m   2686\u001b[0m \n\u001b[0;32m   2687\u001b[0m \u001b[38;5;124;03m    :return: Output for func()'s call\u001b[39;00m\n\u001b[0;32m   2688\u001b[0m \u001b[38;5;124;03m    \"\"\"\u001b[39;00m\n\u001b[1;32m-> 2689\u001b[0m     \u001b[38;5;28mself\u001b[39m\u001b[38;5;241m.\u001b[39m_server \u001b[38;5;241m=\u001b[39m \u001b[38;5;28;43mself\u001b[39;49m\u001b[38;5;241;43m.\u001b[39;49m\u001b[43m_get_server\u001b[49m\u001b[43m(\u001b[49m\u001b[43m)\u001b[49m\n\u001b[0;32m   2690\u001b[0m     \u001b[38;5;28;01massert\u001b[39;00m \u001b[38;5;28mself\u001b[39m\u001b[38;5;241m.\u001b[39m_read_pref \u001b[38;5;129;01mis\u001b[39;00m \u001b[38;5;129;01mnot\u001b[39;00m \u001b[38;5;28;01mNone\u001b[39;00m, \u001b[38;5;124m\"\u001b[39m\u001b[38;5;124mRead Preference required on read calls\u001b[39m\u001b[38;5;124m\"\u001b[39m\n\u001b[0;32m   2691\u001b[0m     \u001b[38;5;28;01mwith\u001b[39;00m \u001b[38;5;28mself\u001b[39m\u001b[38;5;241m.\u001b[39m_client\u001b[38;5;241m.\u001b[39m_conn_from_server(\u001b[38;5;28mself\u001b[39m\u001b[38;5;241m.\u001b[39m_read_pref, \u001b[38;5;28mself\u001b[39m\u001b[38;5;241m.\u001b[39m_server, \u001b[38;5;28mself\u001b[39m\u001b[38;5;241m.\u001b[39m_session) \u001b[38;5;28;01mas\u001b[39;00m (\n\u001b[0;32m   2692\u001b[0m         conn,\n\u001b[0;32m   2693\u001b[0m         read_pref,\n\u001b[0;32m   2694\u001b[0m     ):\n",
      "File \u001b[1;32m~\\AppData\\Roaming\\Python\\Python312\\site-packages\\pymongo\\synchronous\\mongo_client.py:2645\u001b[0m, in \u001b[0;36m_ClientConnectionRetryable._get_server\u001b[1;34m(self)\u001b[0m\n\u001b[0;32m   2640\u001b[0m \u001b[38;5;28;01mdef\u001b[39;00m\u001b[38;5;250m \u001b[39m\u001b[38;5;21m_get_server\u001b[39m(\u001b[38;5;28mself\u001b[39m) \u001b[38;5;241m-\u001b[39m\u001b[38;5;241m>\u001b[39m Server:\n\u001b[0;32m   2641\u001b[0m \u001b[38;5;250m    \u001b[39m\u001b[38;5;124;03m\"\"\"Retrieves a server object based on provided object context\u001b[39;00m\n\u001b[0;32m   2642\u001b[0m \n\u001b[0;32m   2643\u001b[0m \u001b[38;5;124;03m    :return: Abstraction to connect to server\u001b[39;00m\n\u001b[0;32m   2644\u001b[0m \u001b[38;5;124;03m    \"\"\"\u001b[39;00m\n\u001b[1;32m-> 2645\u001b[0m     \u001b[38;5;28;01mreturn\u001b[39;00m \u001b[38;5;28;43mself\u001b[39;49m\u001b[38;5;241;43m.\u001b[39;49m\u001b[43m_client\u001b[49m\u001b[38;5;241;43m.\u001b[39;49m\u001b[43m_select_server\u001b[49m\u001b[43m(\u001b[49m\n\u001b[0;32m   2646\u001b[0m \u001b[43m        \u001b[49m\u001b[38;5;28;43mself\u001b[39;49m\u001b[38;5;241;43m.\u001b[39;49m\u001b[43m_server_selector\u001b[49m\u001b[43m,\u001b[49m\n\u001b[0;32m   2647\u001b[0m \u001b[43m        \u001b[49m\u001b[38;5;28;43mself\u001b[39;49m\u001b[38;5;241;43m.\u001b[39;49m\u001b[43m_session\u001b[49m\u001b[43m,\u001b[49m\n\u001b[0;32m   2648\u001b[0m \u001b[43m        \u001b[49m\u001b[38;5;28;43mself\u001b[39;49m\u001b[38;5;241;43m.\u001b[39;49m\u001b[43m_operation\u001b[49m\u001b[43m,\u001b[49m\n\u001b[0;32m   2649\u001b[0m \u001b[43m        \u001b[49m\u001b[43maddress\u001b[49m\u001b[38;5;241;43m=\u001b[39;49m\u001b[38;5;28;43mself\u001b[39;49m\u001b[38;5;241;43m.\u001b[39;49m\u001b[43m_address\u001b[49m\u001b[43m,\u001b[49m\n\u001b[0;32m   2650\u001b[0m \u001b[43m        \u001b[49m\u001b[43mdeprioritized_servers\u001b[49m\u001b[38;5;241;43m=\u001b[39;49m\u001b[38;5;28;43mself\u001b[39;49m\u001b[38;5;241;43m.\u001b[39;49m\u001b[43m_deprioritized_servers\u001b[49m\u001b[43m,\u001b[49m\n\u001b[0;32m   2651\u001b[0m \u001b[43m        \u001b[49m\u001b[43moperation_id\u001b[49m\u001b[38;5;241;43m=\u001b[39;49m\u001b[38;5;28;43mself\u001b[39;49m\u001b[38;5;241;43m.\u001b[39;49m\u001b[43m_operation_id\u001b[49m\u001b[43m,\u001b[49m\n\u001b[0;32m   2652\u001b[0m \u001b[43m    \u001b[49m\u001b[43m)\u001b[49m\n",
      "File \u001b[1;32m~\\AppData\\Roaming\\Python\\Python312\\site-packages\\pymongo\\synchronous\\mongo_client.py:1649\u001b[0m, in \u001b[0;36mMongoClient._select_server\u001b[1;34m(self, server_selector, session, operation, address, deprioritized_servers, operation_id)\u001b[0m\n\u001b[0;32m   1647\u001b[0m             \u001b[38;5;28;01mraise\u001b[39;00m AutoReconnect(\u001b[38;5;124m\"\u001b[39m\u001b[38;5;124mserver \u001b[39m\u001b[38;5;132;01m%s\u001b[39;00m\u001b[38;5;124m:\u001b[39m\u001b[38;5;132;01m%s\u001b[39;00m\u001b[38;5;124m no longer available\u001b[39m\u001b[38;5;124m\"\u001b[39m \u001b[38;5;241m%\u001b[39m address)  \u001b[38;5;66;03m# noqa: UP031\u001b[39;00m\n\u001b[0;32m   1648\u001b[0m     \u001b[38;5;28;01melse\u001b[39;00m:\n\u001b[1;32m-> 1649\u001b[0m         server \u001b[38;5;241m=\u001b[39m \u001b[43mtopology\u001b[49m\u001b[38;5;241;43m.\u001b[39;49m\u001b[43mselect_server\u001b[49m\u001b[43m(\u001b[49m\n\u001b[0;32m   1650\u001b[0m \u001b[43m            \u001b[49m\u001b[43mserver_selector\u001b[49m\u001b[43m,\u001b[49m\n\u001b[0;32m   1651\u001b[0m \u001b[43m            \u001b[49m\u001b[43moperation\u001b[49m\u001b[43m,\u001b[49m\n\u001b[0;32m   1652\u001b[0m \u001b[43m            \u001b[49m\u001b[43mdeprioritized_servers\u001b[49m\u001b[38;5;241;43m=\u001b[39;49m\u001b[43mdeprioritized_servers\u001b[49m\u001b[43m,\u001b[49m\n\u001b[0;32m   1653\u001b[0m \u001b[43m            \u001b[49m\u001b[43moperation_id\u001b[49m\u001b[38;5;241;43m=\u001b[39;49m\u001b[43moperation_id\u001b[49m\u001b[43m,\u001b[49m\n\u001b[0;32m   1654\u001b[0m \u001b[43m        \u001b[49m\u001b[43m)\u001b[49m\n\u001b[0;32m   1655\u001b[0m     \u001b[38;5;28;01mreturn\u001b[39;00m server\n\u001b[0;32m   1656\u001b[0m \u001b[38;5;28;01mexcept\u001b[39;00m PyMongoError \u001b[38;5;28;01mas\u001b[39;00m exc:\n\u001b[0;32m   1657\u001b[0m     \u001b[38;5;66;03m# Server selection errors in a transaction are transient.\u001b[39;00m\n",
      "File \u001b[1;32m~\\AppData\\Roaming\\Python\\Python312\\site-packages\\pymongo\\synchronous\\topology.py:398\u001b[0m, in \u001b[0;36mTopology.select_server\u001b[1;34m(self, selector, operation, server_selection_timeout, address, deprioritized_servers, operation_id)\u001b[0m\n\u001b[0;32m    388\u001b[0m \u001b[38;5;28;01mdef\u001b[39;00m\u001b[38;5;250m \u001b[39m\u001b[38;5;21mselect_server\u001b[39m(\n\u001b[0;32m    389\u001b[0m     \u001b[38;5;28mself\u001b[39m,\n\u001b[0;32m    390\u001b[0m     selector: Callable[[Selection], Selection],\n\u001b[1;32m   (...)\u001b[0m\n\u001b[0;32m    395\u001b[0m     operation_id: Optional[\u001b[38;5;28mint\u001b[39m] \u001b[38;5;241m=\u001b[39m \u001b[38;5;28;01mNone\u001b[39;00m,\n\u001b[0;32m    396\u001b[0m ) \u001b[38;5;241m-\u001b[39m\u001b[38;5;241m>\u001b[39m Server:\n\u001b[0;32m    397\u001b[0m \u001b[38;5;250m    \u001b[39m\u001b[38;5;124;03m\"\"\"Like select_servers, but choose a random server if several match.\"\"\"\u001b[39;00m\n\u001b[1;32m--> 398\u001b[0m     server \u001b[38;5;241m=\u001b[39m \u001b[38;5;28;43mself\u001b[39;49m\u001b[38;5;241;43m.\u001b[39;49m\u001b[43m_select_server\u001b[49m\u001b[43m(\u001b[49m\n\u001b[0;32m    399\u001b[0m \u001b[43m        \u001b[49m\u001b[43mselector\u001b[49m\u001b[43m,\u001b[49m\n\u001b[0;32m    400\u001b[0m \u001b[43m        \u001b[49m\u001b[43moperation\u001b[49m\u001b[43m,\u001b[49m\n\u001b[0;32m    401\u001b[0m \u001b[43m        \u001b[49m\u001b[43mserver_selection_timeout\u001b[49m\u001b[43m,\u001b[49m\n\u001b[0;32m    402\u001b[0m \u001b[43m        \u001b[49m\u001b[43maddress\u001b[49m\u001b[43m,\u001b[49m\n\u001b[0;32m    403\u001b[0m \u001b[43m        \u001b[49m\u001b[43mdeprioritized_servers\u001b[49m\u001b[43m,\u001b[49m\n\u001b[0;32m    404\u001b[0m \u001b[43m        \u001b[49m\u001b[43moperation_id\u001b[49m\u001b[38;5;241;43m=\u001b[39;49m\u001b[43moperation_id\u001b[49m\u001b[43m,\u001b[49m\n\u001b[0;32m    405\u001b[0m \u001b[43m    \u001b[49m\u001b[43m)\u001b[49m\n\u001b[0;32m    406\u001b[0m     \u001b[38;5;28;01mif\u001b[39;00m _csot\u001b[38;5;241m.\u001b[39mget_timeout():\n\u001b[0;32m    407\u001b[0m         _csot\u001b[38;5;241m.\u001b[39mset_rtt(server\u001b[38;5;241m.\u001b[39mdescription\u001b[38;5;241m.\u001b[39mmin_round_trip_time)\n",
      "File \u001b[1;32m~\\AppData\\Roaming\\Python\\Python312\\site-packages\\pymongo\\synchronous\\topology.py:376\u001b[0m, in \u001b[0;36mTopology._select_server\u001b[1;34m(self, selector, operation, server_selection_timeout, address, deprioritized_servers, operation_id)\u001b[0m\n\u001b[0;32m    367\u001b[0m \u001b[38;5;28;01mdef\u001b[39;00m\u001b[38;5;250m \u001b[39m\u001b[38;5;21m_select_server\u001b[39m(\n\u001b[0;32m    368\u001b[0m     \u001b[38;5;28mself\u001b[39m,\n\u001b[0;32m    369\u001b[0m     selector: Callable[[Selection], Selection],\n\u001b[1;32m   (...)\u001b[0m\n\u001b[0;32m    374\u001b[0m     operation_id: Optional[\u001b[38;5;28mint\u001b[39m] \u001b[38;5;241m=\u001b[39m \u001b[38;5;28;01mNone\u001b[39;00m,\n\u001b[0;32m    375\u001b[0m ) \u001b[38;5;241m-\u001b[39m\u001b[38;5;241m>\u001b[39m Server:\n\u001b[1;32m--> 376\u001b[0m     servers \u001b[38;5;241m=\u001b[39m \u001b[38;5;28;43mself\u001b[39;49m\u001b[38;5;241;43m.\u001b[39;49m\u001b[43mselect_servers\u001b[49m\u001b[43m(\u001b[49m\n\u001b[0;32m    377\u001b[0m \u001b[43m        \u001b[49m\u001b[43mselector\u001b[49m\u001b[43m,\u001b[49m\u001b[43m \u001b[49m\u001b[43moperation\u001b[49m\u001b[43m,\u001b[49m\u001b[43m \u001b[49m\u001b[43mserver_selection_timeout\u001b[49m\u001b[43m,\u001b[49m\u001b[43m \u001b[49m\u001b[43maddress\u001b[49m\u001b[43m,\u001b[49m\u001b[43m \u001b[49m\u001b[43moperation_id\u001b[49m\n\u001b[0;32m    378\u001b[0m \u001b[43m    \u001b[49m\u001b[43m)\u001b[49m\n\u001b[0;32m    379\u001b[0m     servers \u001b[38;5;241m=\u001b[39m _filter_servers(servers, deprioritized_servers)\n\u001b[0;32m    380\u001b[0m     \u001b[38;5;28;01mif\u001b[39;00m \u001b[38;5;28mlen\u001b[39m(servers) \u001b[38;5;241m==\u001b[39m \u001b[38;5;241m1\u001b[39m:\n",
      "File \u001b[1;32m~\\AppData\\Roaming\\Python\\Python312\\site-packages\\pymongo\\synchronous\\topology.py:283\u001b[0m, in \u001b[0;36mTopology.select_servers\u001b[1;34m(self, selector, operation, server_selection_timeout, address, operation_id)\u001b[0m\n\u001b[0;32m    280\u001b[0m     server_timeout \u001b[38;5;241m=\u001b[39m server_selection_timeout\n\u001b[0;32m    282\u001b[0m \u001b[38;5;28;01mwith\u001b[39;00m \u001b[38;5;28mself\u001b[39m\u001b[38;5;241m.\u001b[39m_lock:\n\u001b[1;32m--> 283\u001b[0m     server_descriptions \u001b[38;5;241m=\u001b[39m \u001b[38;5;28;43mself\u001b[39;49m\u001b[38;5;241;43m.\u001b[39;49m\u001b[43m_select_servers_loop\u001b[49m\u001b[43m(\u001b[49m\n\u001b[0;32m    284\u001b[0m \u001b[43m        \u001b[49m\u001b[43mselector\u001b[49m\u001b[43m,\u001b[49m\u001b[43m \u001b[49m\u001b[43mserver_timeout\u001b[49m\u001b[43m,\u001b[49m\u001b[43m \u001b[49m\u001b[43moperation\u001b[49m\u001b[43m,\u001b[49m\u001b[43m \u001b[49m\u001b[43moperation_id\u001b[49m\u001b[43m,\u001b[49m\u001b[43m \u001b[49m\u001b[43maddress\u001b[49m\n\u001b[0;32m    285\u001b[0m \u001b[43m    \u001b[49m\u001b[43m)\u001b[49m\n\u001b[0;32m    287\u001b[0m     \u001b[38;5;28;01mreturn\u001b[39;00m [\n\u001b[0;32m    288\u001b[0m         cast(Server, \u001b[38;5;28mself\u001b[39m\u001b[38;5;241m.\u001b[39mget_server_by_address(sd\u001b[38;5;241m.\u001b[39maddress)) \u001b[38;5;28;01mfor\u001b[39;00m sd \u001b[38;5;129;01min\u001b[39;00m server_descriptions\n\u001b[0;32m    289\u001b[0m     ]\n",
      "File \u001b[1;32m~\\AppData\\Roaming\\Python\\Python312\\site-packages\\pymongo\\synchronous\\topology.py:357\u001b[0m, in \u001b[0;36mTopology._select_servers_loop\u001b[1;34m(self, selector, timeout, operation, operation_id, address)\u001b[0m\n\u001b[0;32m    351\u001b[0m \u001b[38;5;28mself\u001b[39m\u001b[38;5;241m.\u001b[39m_request_check_all()\n\u001b[0;32m    353\u001b[0m \u001b[38;5;66;03m# Release the lock and wait for the topology description to\u001b[39;00m\n\u001b[0;32m    354\u001b[0m \u001b[38;5;66;03m# change, or for a timeout. We won't miss any changes that\u001b[39;00m\n\u001b[0;32m    355\u001b[0m \u001b[38;5;66;03m# came after our most recent apply_selector call, since we've\u001b[39;00m\n\u001b[0;32m    356\u001b[0m \u001b[38;5;66;03m# held the lock until now.\u001b[39;00m\n\u001b[1;32m--> 357\u001b[0m \u001b[38;5;28;43mself\u001b[39;49m\u001b[38;5;241;43m.\u001b[39;49m\u001b[43m_condition\u001b[49m\u001b[38;5;241;43m.\u001b[39;49m\u001b[43mwait\u001b[49m\u001b[43m(\u001b[49m\u001b[43mcommon\u001b[49m\u001b[38;5;241;43m.\u001b[39;49m\u001b[43mMIN_HEARTBEAT_INTERVAL\u001b[49m\u001b[43m)\u001b[49m\n\u001b[0;32m    358\u001b[0m \u001b[38;5;28mself\u001b[39m\u001b[38;5;241m.\u001b[39m_description\u001b[38;5;241m.\u001b[39mcheck_compatible()\n\u001b[0;32m    359\u001b[0m now \u001b[38;5;241m=\u001b[39m time\u001b[38;5;241m.\u001b[39mmonotonic()\n",
      "File \u001b[1;32mc:\\Program Files\\Python\\Python3128\\Lib\\threading.py:359\u001b[0m, in \u001b[0;36mCondition.wait\u001b[1;34m(self, timeout)\u001b[0m\n\u001b[0;32m    357\u001b[0m \u001b[38;5;28;01melse\u001b[39;00m:\n\u001b[0;32m    358\u001b[0m     \u001b[38;5;28;01mif\u001b[39;00m timeout \u001b[38;5;241m>\u001b[39m \u001b[38;5;241m0\u001b[39m:\n\u001b[1;32m--> 359\u001b[0m         gotit \u001b[38;5;241m=\u001b[39m \u001b[43mwaiter\u001b[49m\u001b[38;5;241;43m.\u001b[39;49m\u001b[43macquire\u001b[49m\u001b[43m(\u001b[49m\u001b[38;5;28;43;01mTrue\u001b[39;49;00m\u001b[43m,\u001b[49m\u001b[43m \u001b[49m\u001b[43mtimeout\u001b[49m\u001b[43m)\u001b[49m\n\u001b[0;32m    360\u001b[0m     \u001b[38;5;28;01melse\u001b[39;00m:\n\u001b[0;32m    361\u001b[0m         gotit \u001b[38;5;241m=\u001b[39m waiter\u001b[38;5;241m.\u001b[39macquire(\u001b[38;5;28;01mFalse\u001b[39;00m)\n",
      "\u001b[1;31mKeyboardInterrupt\u001b[0m: "
     ]
    },
    {
     "name": "stdout",
     "output_type": "stream",
     "text": [
      "['alphas']\n"
     ]
    }
   ],
   "source": [
    "from pymongo import MongoClient\n",
    "\n",
    "# 测试连接\n",
    "client = MongoClient('mongodb://localhost:27017/')\n",
    "db = client['brain_simulation']\n",
    "print(db.list_collection_names())"
   ]
  }
 ],
 "metadata": {
  "kernelspec": {
   "display_name": "Python 3",
   "language": "python",
   "name": "python3"
  },
  "language_info": {
   "codemirror_mode": {
    "name": "ipython",
    "version": 3
   },
   "file_extension": ".py",
   "mimetype": "text/x-python",
   "name": "python",
   "nbconvert_exporter": "python",
   "pygments_lexer": "ipython3",
   "version": "3.12.8"
  }
 },
 "nbformat": 4,
 "nbformat_minor": 2
}
